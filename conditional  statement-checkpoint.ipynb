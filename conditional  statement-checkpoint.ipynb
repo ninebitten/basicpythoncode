{
 "cells": [
  {
   "cell_type": "code",
   "execution_count": 1,
   "id": "a19fed19",
   "metadata": {},
   "outputs": [],
   "source": [
    "import numpy as np"
   ]
  },
  {
   "cell_type": "code",
   "execution_count": 2,
   "id": "769814f1",
   "metadata": {},
   "outputs": [],
   "source": [
    "x = np.array([i for i in range(20)])"
   ]
  },
  {
   "cell_type": "code",
   "execution_count": 3,
   "id": "2270eea9",
   "metadata": {},
   "outputs": [
    {
     "data": {
      "text/plain": [
       "array([ 0,  1,  2,  3,  4,  5,  6,  7,  8,  9, 10, 11, 12, 13, 14, 15, 16,\n",
       "       17, 18, 19])"
      ]
     },
     "execution_count": 3,
     "metadata": {},
     "output_type": "execute_result"
    }
   ],
   "source": [
    "x"
   ]
  },
  {
   "cell_type": "code",
   "execution_count": 6,
   "id": "f4323921",
   "metadata": {},
   "outputs": [],
   "source": [
    "condist = [x<6,x>9]\n",
    "choicelist = [x**2,x**3]"
   ]
  },
  {
   "cell_type": "code",
   "execution_count": 7,
   "id": "2919b5fe",
   "metadata": {},
   "outputs": [
    {
     "data": {
      "text/plain": [
       "array([   0,    1,    4,    9,   16,   25,    6,    7,    8,    9, 1000,\n",
       "       1331, 1728, 2197, 2744, 3375, 4096, 4913, 5832, 6859])"
      ]
     },
     "execution_count": 7,
     "metadata": {},
     "output_type": "execute_result"
    }
   ],
   "source": [
    "np.select(condist,choicelist,default=x)"
   ]
  },
  {
   "cell_type": "code",
   "execution_count": null,
   "id": "22e89cad",
   "metadata": {},
   "outputs": [],
   "source": []
  }
 ],
 "metadata": {
  "kernelspec": {
   "display_name": "Python 3 (ipykernel)",
   "language": "python",
   "name": "python3"
  },
  "language_info": {
   "codemirror_mode": {
    "name": "ipython",
    "version": 3
   },
   "file_extension": ".py",
   "mimetype": "text/x-python",
   "name": "python",
   "nbconvert_exporter": "python",
   "pygments_lexer": "ipython3",
   "version": "3.11.2"
  }
 },
 "nbformat": 4,
 "nbformat_minor": 5
}
